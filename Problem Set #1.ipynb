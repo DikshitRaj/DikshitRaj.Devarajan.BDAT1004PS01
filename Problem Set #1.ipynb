{
 "cells": [
  {
   "cell_type": "markdown",
   "metadata": {},
   "source": [
    "## 1. What data type is each of the following?\n",
    "\n",
    "    5----------------Integer\n",
    "    5.0--------------Floating Point\n",
    "    5 > 1------------Boolean\n",
    "    '5'--------------String\n",
    "    5 * 2------------Integer\n",
    "    '5' * 2----------String\n",
    "    '5' + '2'--------String\n",
    "    5 / 2------------Floating Point\n",
    "    5 // 2-----------Integer\n",
    "    [5, 2, 1]--------List\n",
    "    5 in [1, 4, 6]---Boolean\n",
    "    math.pi----------Floating Point\n"
   ]
  },
  {
   "cell_type": "markdown",
   "metadata": {},
   "source": [
    "## 2. Write (and evaluate) Python expressions that answer these questions:\n",
    "    a. How many letters are there in 'Supercalifragilisticexpialidocious'?\n",
    "    b. Does 'Supercalifragilisticexpialidocious' contain 'ice' as a substring? \n",
    "    c. Which of the following words is the longest:\n",
    "    Supercalifragilisticexpialidocious, Honorificabilitudinitatibus, or\n",
    "    Bababadalgharaghtakamminarronnkonn?\n",
    "    d. Which composer comes first in the dictionary: 'Berlioz', 'Borodin', 'Brian',\n",
    "    'Bartok', 'Bellini', 'Buxtehude', 'Bernstein'. Which one comes last?"
   ]
  },
  {
   "cell_type": "code",
   "execution_count": 1,
   "metadata": {},
   "outputs": [
    {
     "name": "stdout",
     "output_type": "stream",
     "text": [
      "2A. The lenght of the word 'Supercalifragilisticexpialidocious' is: 34\n"
     ]
    }
   ],
   "source": [
    "s1 = 'Supercalifragilisticexpialidocious'\n",
    "s1len = len(s1) # using len() to find string length\n",
    "print(\"2A. The lenght of the word 'Supercalifragilisticexpialidocious' is:\",s1len)"
   ]
  },
  {
   "cell_type": "code",
   "execution_count": 2,
   "metadata": {},
   "outputs": [
    {
     "name": "stdout",
     "output_type": "stream",
     "text": [
      "2B. 'Supercalifragilisticexpialidocious' contains 'ice' as a substring\n"
     ]
    }
   ],
   "source": [
    "if 'ice' in s1:\n",
    "    print(\"2B. 'Supercalifragilisticexpialidocious' contains 'ice' as a substring\")\n",
    "else:\n",
    "    print(\"2B. 'Supercalifragilisticexpialidocious' does not contains 'ice' as a substring\")"
   ]
  },
  {
   "cell_type": "code",
   "execution_count": 3,
   "metadata": {},
   "outputs": [
    {
     "name": "stdout",
     "output_type": "stream",
     "text": [
      "2C. The word Bababadalgharaghtakamminarronnkonn is the longest\n"
     ]
    }
   ],
   "source": [
    "s2 = 'Honorificabilitudinitatibus'\n",
    "s3 = 'Bababadalgharaghtakamminarronnkonn'\n",
    "\n",
    "s2len = len(s2)\n",
    "s3len = len(s3)\n",
    "\n",
    "#using if ladder condition to find out the longrst word\n",
    "\n",
    "if (s1len > s2len) and (s1len > s3len):\n",
    "    print (\"2C. The word \"+s1+\" is the longest\")\n",
    "elif (s2len > s1len) and (s2len > s3len):\n",
    "    print (\"2C. The word \"+s2+\" is the longest\")\n",
    "else:\n",
    "    print (\"2C. The word \"+s3+\" is the longest\")\n",
    "        "
   ]
  },
  {
   "cell_type": "code",
   "execution_count": 4,
   "metadata": {},
   "outputs": [
    {
     "name": "stdout",
     "output_type": "stream",
     "text": [
      "2D. The first composer in the dictonary will be: Bartok\n",
      "2D. The last composer in the dictonary will be: Buxtehude\n"
     ]
    }
   ],
   "source": [
    "composerList = ['Berlioz','Borodin','Brian','Bartok','Bellini','Buxtehude','Bernstein']\n",
    "composerList.sort() # the sort() function sorts a list in ascending order or alphabetical order\n",
    "print(\"2D. The first composer in the dictonary will be: \"+composerList[0])\n",
    "print(\"2D. The last composer in the dictonary will be: \"+composerList[-1])"
   ]
  },
  {
   "cell_type": "markdown",
   "metadata": {},
   "source": [
    "## Question 3\n",
    "\n",
    "    a. Write a function inside(x,y,x1,y1,x2,y2) that returns True or False\n",
    "    depending on whether the point (x,y) lies in the rectangle with lower left\n",
    "    corner (x1,y1) and upper right corner (x2,y2).\n",
    "    >>> inside(1,1,0,0,2,3)\n",
    "    True\n",
    "    >>> inside(-1,-1,0,0,2,3)\n",
    "    False\n",
    "    b. Use function inside() from part a. to write an expression that tests whether\n",
    "    the point (1,1) lies in both of the following rectangles: one with lower left\n",
    "    corner (0.3, 0.5) and upper right corner (1.1, 0.7) and the other with lower\n",
    "    left corner (0.5, 0.2) and upper right corner (1.1, 2). "
   ]
  },
  {
   "cell_type": "code",
   "execution_count": 5,
   "metadata": {},
   "outputs": [],
   "source": [
    "def inside(x,y,x1,y1,x2,y2):\n",
    "    \n",
    "    '''\n",
    "    This function is to find out if a point (x,y) lies within a rectangle formed by diagonal points (x1,y1) and (x2,y2)\n",
    "\n",
    "    '''\n",
    "    # for a point to lie within a rectangle, the coordinates (x,y) should lie between the 2 diagonals (x1,y1) and (x2,y2)\n",
    "    if (x1<=x<=x2) and (y1<=y<=y2):\n",
    "        return True\n",
    "    else:\n",
    "        return False"
   ]
  },
  {
   "cell_type": "code",
   "execution_count": 22,
   "metadata": {},
   "outputs": [
    {
     "data": {
      "text/plain": [
       "True"
      ]
     },
     "execution_count": 22,
     "metadata": {},
     "output_type": "execute_result"
    }
   ],
   "source": [
    "inside(1,1,0,0,2,3)"
   ]
  },
  {
   "cell_type": "code",
   "execution_count": 23,
   "metadata": {},
   "outputs": [
    {
     "data": {
      "text/plain": [
       "False"
      ]
     },
     "execution_count": 23,
     "metadata": {},
     "output_type": "execute_result"
    }
   ],
   "source": [
    "inside(-1,-1,0,0,2,3)"
   ]
  },
  {
   "cell_type": "code",
   "execution_count": 6,
   "metadata": {},
   "outputs": [
    {
     "data": {
      "text/plain": [
       "False"
      ]
     },
     "execution_count": 6,
     "metadata": {},
     "output_type": "execute_result"
    }
   ],
   "source": [
    "inside(1,1,0.3,0.5,1.1,0.7)"
   ]
  },
  {
   "cell_type": "code",
   "execution_count": 7,
   "metadata": {},
   "outputs": [
    {
     "data": {
      "text/plain": [
       "True"
      ]
     },
     "execution_count": 7,
     "metadata": {},
     "output_type": "execute_result"
    }
   ],
   "source": [
    "inside(1,1,0.5,0.5,1.1,2)"
   ]
  },
  {
   "cell_type": "markdown",
   "metadata": {},
   "source": [
    "## Question 4\n",
    "    You can turn a word into pig-Latin using the following two rules (simplified):\n",
    "    • If the word starts with a consonant, move that letter to the end and append\n",
    "    'ay'. For example, 'happy' becomes 'appyhay' and 'pencil' becomes 'encilpay'.\n",
    "    • If the word starts with a vowel, simply append 'way' to the end of the word.\n",
    "    For example, 'enter' becomes 'enterway' and 'other' becomes 'otherway' . For\n",
    "    our purposes, there are 5 vowels: a, e, i, o, u (so we count y as a consonant).\n",
    "    Write a function pig() that takes a word (i.e., a string) as input and returns its pigLatin form. Your function should \n",
    "    still work if the input word contains upper case\n",
    "    characters. Your output should always be lower case however."
   ]
  },
  {
   "cell_type": "code",
   "execution_count": 8,
   "metadata": {},
   "outputs": [],
   "source": [
    "def pig(word):\n",
    "    \n",
    "    '''\n",
    "    This function is a Pig-Latin converter\n",
    "    \n",
    "    '''\n",
    "    vowelList = ['a','e','i','o','u','A','E','I','O','U'] # Defining the vowel list to be checked\n",
    "    \n",
    "    # Pig-Latin logic for words starting with a vowel\n",
    "    if word[0] in vowelList:\n",
    "        pigLatin = word+'way'\n",
    "        return pigLatin.lower()\n",
    "    \n",
    "    # Pig-Latin logic or words starting ith a cononant\n",
    "    else:\n",
    "        pigLatin = word[1:len(word)]+word[0]+'ay'\n",
    "        return pigLatin.lower()              "
   ]
  },
  {
   "cell_type": "code",
   "execution_count": 9,
   "metadata": {},
   "outputs": [
    {
     "data": {
      "text/plain": [
       "'onstantcay'"
      ]
     },
     "execution_count": 9,
     "metadata": {},
     "output_type": "execute_result"
    }
   ],
   "source": [
    "inputstr = ['Constant','Air']\n",
    "pig(inputstr[0])"
   ]
  },
  {
   "cell_type": "code",
   "execution_count": 10,
   "metadata": {},
   "outputs": [
    {
     "data": {
      "text/plain": [
       "'airway'"
      ]
     },
     "execution_count": 10,
     "metadata": {},
     "output_type": "execute_result"
    }
   ],
   "source": [
    "pig(inputstr[1])"
   ]
  },
  {
   "cell_type": "markdown",
   "metadata": {},
   "source": [
    "## Question 5\n",
    "    File bloodtype1.txt records blood-types of patients (A, B, AB, O or OO) at a clinic.\n",
    "    Write a function bldcount() that reads the file with name name and reports (i.e.,\n",
    "    prints) how many patients there are in each bloodtype.\n",
    "    >>> bldcount('bloodtype.txt')\n",
    "    There are 10 patients of blood type A.\n",
    "    There is one patient of blood type B.\n",
    "    There are 10 patients of blood type AB.\n",
    "    There are 12 patients of blood type O.\n",
    "    There are no patients of blood type OO."
   ]
  },
  {
   "cell_type": "code",
   "execution_count": 11,
   "metadata": {},
   "outputs": [],
   "source": [
    "def bldcount(filename):\n",
    "    \n",
    "    '''\n",
    "    This functions gives a count of all the patients of each bloodtype as maintainted in the text file\n",
    "    \n",
    "    '''\n",
    "    # Opening a file, reading the contents and closing it\n",
    "    infile = open(filename,'r')\n",
    "    bloodGroup = infile.read()\n",
    "    infile.close()\n",
    "    \n",
    "    # Converting the contents to a list split by whitespaces\n",
    "    bloodGroupList = bloodGroup.split()\n",
    "    \n",
    "    # Initalising the counters for each bloodgroup\n",
    "    countOfA = 0\n",
    "    countOfB = 0\n",
    "    countOfAB = 0\n",
    "    countOfO = 0\n",
    "    countOfOO = 0\n",
    "    \n",
    "    # Counting each bloodgroup from list using elif ladder\n",
    "    for i in range(0,len(bloodGroupList),1):\n",
    "        if bloodGroupList[i] == 'A':\n",
    "            countOfA += 1\n",
    "        elif bloodGroupList[i] == 'B':\n",
    "            countOfB += 1\n",
    "        elif bloodGroupList[i] == 'AB':\n",
    "            countOfAB += 1\n",
    "        elif bloodGroupList[i] == 'O':\n",
    "            countOfO += 1\n",
    "        else:\n",
    "            countOfOO += 1\n",
    "    \n",
    "    print (\"\\n There are \",countOfA,\" patients of BloodType A\")\n",
    "    print (\"\\n There are \",countOfB,\" patients of BloodType B\")\n",
    "    print (\"\\n There are \",countOfAB,\" patients of BloodType AB\")\n",
    "    print (\"\\n There are \",countOfO,\" patients of BloodType O\")\n",
    "    print (\"\\n There are \",countOfOO,\" patients of BloodType OO\")\n",
    "    "
   ]
  },
  {
   "cell_type": "code",
   "execution_count": 12,
   "metadata": {},
   "outputs": [
    {
     "name": "stdout",
     "output_type": "stream",
     "text": [
      "\n",
      " There are  15  patients of BloodType A\n",
      "\n",
      " There are  1  patients of BloodType B\n",
      "\n",
      " There are  13  patients of BloodType AB\n",
      "\n",
      " There are  15  patients of BloodType O\n",
      "\n",
      " There are  0  patients of BloodType OO\n"
     ]
    }
   ],
   "source": [
    "bldcount('BloodType1.txt')"
   ]
  },
  {
   "cell_type": "markdown",
   "metadata": {},
   "source": [
    "## Question 6\n",
    "    Write a function curconv() that takes as input:\n",
    "    1. a currency represented using a string (e.g., 'JPY' for the Japanese Yen or\n",
    "    'EUR' for the Euro)\n",
    "    2. an amount\n",
    "    and then converts and returns the amount in US dollars.\n",
    "    >>> curconv('EUR', 100)\n",
    "    122.96544\n",
    "    >>> curconv('JPY', 100)\n",
    "    1.241401"
   ]
  },
  {
   "cell_type": "code",
   "execution_count": 13,
   "metadata": {},
   "outputs": [],
   "source": [
    "def curconv(currency,amount):\n",
    "    \n",
    "    '''\n",
    "    This function gives the converted amount from any other currency to USD\n",
    "    \n",
    "    '''\n",
    "    # Using with keyword to read file as a foreach loop\n",
    "    with open('Currencies.txt') as file:\n",
    "        \n",
    "        # Reading he lines of the text file into a list\n",
    "        for currencyList in file.readlines():\n",
    "            \n",
    "            # Taking only the country element of the list using split90 function\n",
    "            for country in currencyList.split():\n",
    "                if (country == currency):\n",
    "                    \n",
    "                    # Calculating the converted amount to USD\n",
    "                    convAmt = amount * float(currencyList.split()[1])\n",
    "    return convAmt"
   ]
  },
  {
   "cell_type": "code",
   "execution_count": 14,
   "metadata": {},
   "outputs": [
    {
     "data": {
      "text/plain": [
       "122.96544"
      ]
     },
     "execution_count": 14,
     "metadata": {},
     "output_type": "execute_result"
    }
   ],
   "source": [
    "curconv('EUR', 100)"
   ]
  },
  {
   "cell_type": "code",
   "execution_count": 15,
   "metadata": {},
   "outputs": [
    {
     "data": {
      "text/plain": [
       "1.241401"
      ]
     },
     "execution_count": 15,
     "metadata": {},
     "output_type": "execute_result"
    }
   ],
   "source": [
    "curconv(\"JPY\",100)"
   ]
  },
  {
   "cell_type": "markdown",
   "metadata": {},
   "source": [
    "## Question 7\n",
    "    Each of the following will cause an exception (an error). Identify what type of\n",
    "    exception each will cause.\n",
    "    Trying to add incompatible variables, as in\n",
    "    adding 6 + ‘a’-------------------------------------------------------Type Error (Trying to add Int with String)\n",
    "    Referring to the 12th item of a list that has only 10\n",
    "    items----------------------------------------------------------------Index Error (List index is out of range)\n",
    "    Using a value that is out of range for a function’s\n",
    "    input, such as calling math.sqrt(-1.0)-------------------------------Value/Domain Error (math.sqrt(-1.0) has no meaning in real arithmetic)\n",
    "    Using an undeclared variable, such as print(x)\n",
    "    when x has not been defined------------------------------------------Name Error ('x' is not defined adnd cannot be recognized)\n",
    "    Trying to open a file that does not exist, such as\n",
    "    mistyping the file name or looking in the wrong\n",
    "    directory.-----------------------------------------------------------File not Found Error (No such file/Directory exists)"
   ]
  },
  {
   "cell_type": "markdown",
   "metadata": {},
   "source": [
    "## Question 8\n",
    "    Encryption is the process of hiding the meaning of a text by substituting letters in the\n",
    "    message with other letters, according to some system. If the process is successful, no\n",
    "    one but the intended recipient can understand the encrypted message. Cryptanalysis\n",
    "    refers to attempts to undo the encryption, even if some details of the encryption are\n",
    "    unknown (for example, if an encrypted message has been intercepted). The first step\n",
    "    of cryptanalysis is often to build up a table of letter frequencies in the encrypted text.\n",
    "    Assume that the string letters is already defined as\n",
    "    'abcdefghijklmnopqrstuvwxyz'. Write a function called frequencies()\n",
    "    that takes a string as its only parameter, and returns a list of integers, showing the\n",
    "    number of times each character appears in the text. Your function may ignore any\n",
    "    characters that are not in letters.\n",
    "    >>> frequencies('The quick red fox got bored and went home.')\n",
    "    [1, 1, 1, 3, 5, 1, 1, 2, 1, 0, 1, 0, 1, 2, 4, 0, 1, 2, 0, 2,\n",
    "    1, 0, 1, 1, 0, 0]\n",
    "    >>> frequencies('apple')"
   ]
  },
  {
   "cell_type": "code",
   "execution_count": 33,
   "metadata": {},
   "outputs": [],
   "source": [
    "def frequencies(inputstr):\n",
    "    \n",
    "    '''\n",
    "    This function takes the input string and lists out the frequency of each letter in a list form\n",
    "    \n",
    "    '''\n",
    "    \n",
    "    stringinput = inputstr.lower()\n",
    "    \n",
    "    alphaList = ['a','b','c','d','e','f','g','h','i','j','k','l','m','n','o','p','q','r','s','t','u','v','w','x','y','z']\n",
    "    \n",
    "    # Converting hte input string into a list of charcaters\n",
    "    inputList = [char for char in stringinput]\n",
    "    \n",
    "    # Creating a counter Dictionary\n",
    "    counterDict = {'a':0,'b':0,'c':0,'d':0,'e':0,'f':0,'g':0,'h':0,'i':0,'j':0,'k':0,'l':0,'m':0,'n':0,'o':0,'p':0,'q':0,'r':0,'s':0,'t':0,'u':0,'v':0,'w':0,'x':0,'y':0,'z':0}\n",
    "\n",
    "    # For every character in the input string we are checking witht the alphaList to ignore special characters\n",
    "    for char in inputList:\n",
    "        if char in alphaList:\n",
    "            counterDict[char] += 1\n",
    "    counterList = list(counterDict.values())\n",
    "    print (counterList)\n",
    "        "
   ]
  },
  {
   "cell_type": "code",
   "execution_count": 34,
   "metadata": {},
   "outputs": [
    {
     "name": "stdout",
     "output_type": "stream",
     "text": [
      "[1, 0, 0, 0, 1, 0, 0, 0, 0, 0, 0, 1, 0, 0, 0, 2, 0, 0, 0, 0, 0, 0, 0, 0, 0, 0]\n"
     ]
    }
   ],
   "source": [
    "frequencies(\"Apple\")"
   ]
  },
  {
   "cell_type": "code",
   "execution_count": 35,
   "metadata": {},
   "outputs": [
    {
     "name": "stdout",
     "output_type": "stream",
     "text": [
      "[1, 0, 0, 0, 4, 1, 0, 1, 0, 0, 0, 1, 0, 0, 1, 2, 0, 0, 0, 1, 0, 0, 0, 0, 1, 0]\n"
     ]
    }
   ],
   "source": [
    "frequencies('apple of the eye')"
   ]
  },
  {
   "cell_type": "markdown",
   "metadata": {},
   "source": [
    "## Question 9\n",
    "    The Sieve of Erastophenes is an algorithm -- known to ancient Greeks -- that finds\n",
    "    all prime numbers up to a given number n. It does this by first creating a list L from\n",
    "    2 to n and an (initially empty) list primeL. The algorithm then takes the first number\n",
    "    in list L (2) and appends it to list primeL, and then removes 2 and all its multiples\n",
    "    (4,6,8,10,12, ...) from L. The algorithm then takes the new first number in L (3) and\n",
    "    appends it to list primeL, and then removes from L 3 and all its remaining multiples\n",
    "    (9,15,21,...). So, in every iteration, the first number of list L is appended to list\n",
    "    primeL and then it and its multiples are removed from list L. The iterations stop\n",
    "    when list L becomes empty. Write a function sieve() that takes as input a positive\n",
    "    integer n, implements the above algorithm, and returns a list of all prime numbers up to n.\n",
    "    >>> sieve(56)\n",
    "    [2, 3, 5, 7, 11, 13, 17, 19, 23, 29, 31, 37, 41,\n",
    "    43, 47, 53]\n",
    "    >>> sieve(368)\n",
    "    [2, 3, 5, 7, 11, 13, 17, 19, 23, 29, 31, 37, 41,\n",
    "    43, 47, 53, 59, 61, 67, 71, 73, 79, 83, 89, 97,\n",
    "    101, 103, 107, 109, 113, 127, 131, 137, 139, 149,\n",
    "    151, 157, 163, 167, 173, 179, 181, 191, 193, 197,\n",
    "    199, 211, 223, 227, 229, 233, 239, 241, 251, 257,\n",
    "    263, 269, 271, 277, 281, 283, 293, 307, 311, 313,\n",
    "    317, 331, 337, 347, 349, 353, 359, 367]\n",
    "    >>> sieve(32)\n",
    "    [2, 3, 5, 7, 11, 13, 17, 19, 23, 29, 31]"
   ]
  },
  {
   "cell_type": "code",
   "execution_count": 18,
   "metadata": {},
   "outputs": [],
   "source": [
    "def sieve(n):\n",
    "    \n",
    "    '''\n",
    "    This function is a working Sieve of Eratosthenes algorithm, to find all prime nunbers upto a specified number\n",
    "    \n",
    "    '''\n",
    "    primeList = [] # Creating an empty prime number list\n",
    "    primeCheck = [True for i in range(n + 1)]  # Creating a prime checker list with all values true intially\n",
    "    leastPrime = 2\n",
    "    \n",
    "    # if the square of a number is more than n, its multiples will automatically not be prime numbers\n",
    "    while (leastPrime * leastPrime <= n): \n",
    "        if (primeCheck[leastPrime] == True):  \n",
    "            for i in range(leastPrime * 2, n + 1, leastPrime): \n",
    "                primeCheck[i] = False # Making all mulitples of the leastPrime number as false\n",
    "        leastPrime += 1 # Increamenting leastPrime to next number \n",
    "    \n",
    "    # Initializing 0 and 1 as non prime numbers\n",
    "    primeCheck[0]= False \n",
    "    primeCheck[1]= False\n",
    "    \n",
    "    # Print all prime numbers \n",
    "    for p in range(n + 1): \n",
    "        if primeCheck[p]: \n",
    "            primeList.append(p)\n",
    "    print (primeList)"
   ]
  },
  {
   "cell_type": "code",
   "execution_count": 19,
   "metadata": {},
   "outputs": [
    {
     "name": "stdout",
     "output_type": "stream",
     "text": [
      "[2, 3, 5, 7, 11, 13, 17, 19, 23, 29, 31, 37, 41, 43, 47, 53, 59, 61, 67, 71, 73, 79, 83, 89, 97]\n"
     ]
    }
   ],
   "source": [
    "sieve(100)"
   ]
  },
  {
   "cell_type": "code",
   "execution_count": 36,
   "metadata": {},
   "outputs": [
    {
     "name": "stdout",
     "output_type": "stream",
     "text": [
      "[2, 3, 5, 7, 11, 13, 17, 19, 23, 29, 31, 37, 41, 43, 47, 53, 59, 61, 67, 71, 73, 79, 83, 89, 97, 101, 103, 107, 109, 113, 127, 131, 137, 139, 149, 151, 157, 163, 167, 173, 179, 181, 191, 193, 197, 199, 211, 223, 227, 229, 233, 239, 241, 251, 257, 263, 269, 271, 277, 281, 283, 293, 307, 311, 313, 317, 331, 337, 347, 349, 353]\n"
     ]
    }
   ],
   "source": [
    "sieve(358)"
   ]
  },
  {
   "cell_type": "code",
   "execution_count": 37,
   "metadata": {},
   "outputs": [
    {
     "name": "stdout",
     "output_type": "stream",
     "text": [
      "[2, 3, 5, 7, 11, 13, 17, 19, 23, 29, 31, 37, 41, 43, 47, 53]\n"
     ]
    }
   ],
   "source": [
    "sieve(56)"
   ]
  },
  {
   "cell_type": "code",
   "execution_count": 38,
   "metadata": {},
   "outputs": [
    {
     "name": "stdout",
     "output_type": "stream",
     "text": [
      "[2, 3, 5, 7, 11, 13, 17, 19, 23, 29, 31]\n"
     ]
    }
   ],
   "source": [
    "sieve(32)"
   ]
  },
  {
   "cell_type": "markdown",
   "metadata": {},
   "source": [
    "## Question 10\n",
    "    Implement function triangleArea(a,b,c) that takes as input the lengths of the 3\n",
    "    sides of a triangle and returns the area of the triangle. By Heron's formula, the area\n",
    "    of a triangle with side lengths a, b, and c is\n",
    "    s(s - a)(s -b)(s -c)\n",
    "    , where\n",
    "    s = (a+b+c)/2.\n",
    "    >>> triangleArea(2,2,2)\n",
    "    1.7320508075688772"
   ]
  },
  {
   "cell_type": "code",
   "execution_count": 39,
   "metadata": {},
   "outputs": [],
   "source": [
    "# Importing the math library to make use of sqrt90 function\n",
    "import math"
   ]
  },
  {
   "cell_type": "code",
   "execution_count": 41,
   "metadata": {},
   "outputs": [],
   "source": [
    "def triangleArea(a,b,c):\n",
    "    \n",
    "    '''\n",
    "    This function gives the Area of a triangle based on the Heron's Formula \n",
    "    \n",
    "    '''\n",
    "    s = (a+b+c)/2\n",
    "    area = math.sqrt(s*(s-a)*(s-b)*(s-c))\n",
    "    return area"
   ]
  },
  {
   "cell_type": "code",
   "execution_count": 42,
   "metadata": {},
   "outputs": [
    {
     "data": {
      "text/plain": [
       "1.7320508075688772"
      ]
     },
     "execution_count": 42,
     "metadata": {},
     "output_type": "execute_result"
    }
   ],
   "source": [
    "triangleArea(2,2,2)"
   ]
  },
  {
   "cell_type": "code",
   "execution_count": null,
   "metadata": {},
   "outputs": [],
   "source": []
  }
 ],
 "metadata": {
  "kernelspec": {
   "display_name": "Python 3",
   "language": "python",
   "name": "python3"
  },
  "language_info": {
   "codemirror_mode": {
    "name": "ipython",
    "version": 3
   },
   "file_extension": ".py",
   "mimetype": "text/x-python",
   "name": "python",
   "nbconvert_exporter": "python",
   "pygments_lexer": "ipython3",
   "version": "3.7.6"
  }
 },
 "nbformat": 4,
 "nbformat_minor": 4
}
